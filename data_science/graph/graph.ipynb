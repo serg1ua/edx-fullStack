{
 "cells": [
  {
   "cell_type": "code",
   "execution_count": null,
   "id": "ab655401",
   "metadata": {},
   "outputs": [],
   "source": [
    "%pip install pycoingecko\n",
    "%pip install plotly\n",
    "%pip install mplfinance\n",
    "%pip install --upgrade nbformat"
   ]
  },
  {
   "cell_type": "code",
   "execution_count": 46,
   "id": "39db1f5c",
   "metadata": {},
   "outputs": [],
   "source": [
    "import pandas as pd\n",
    "import numpy as np\n",
    "import plotly.graph_objects as go\n",
    "from plotly.offline import plot\n",
    "import matplotlib.pyplot as plt\n",
    "import datetime\n",
    "from pycoingecko import CoinGeckoAPI\n",
    "from mplfinance.original_flavor import candlestick2_ohlc"
   ]
  },
  {
   "cell_type": "code",
   "execution_count": 50,
   "id": "cec2e228",
   "metadata": {},
   "outputs": [
    {
     "data": {
      "text/plain": [
       "[[1756652501914, 108462.07683097602],\n",
       " [1756656141408, 108786.16404496257],\n",
       " [1756659637043, 108949.12666027468],\n",
       " [1756663271785, 108979.48633378587],\n",
       " [1756666912435, 109131.67937094519],\n",
       " [1756670432327, 108922.73073924262],\n",
       " [1756674157565, 109066.36655120115],\n",
       " [1756677698716, 109026.24716432432],\n",
       " [1756681330273, 108867.78018188462],\n",
       " [1756684884782, 108253.36092385623]]"
      ]
     },
     "execution_count": 50,
     "metadata": {},
     "output_type": "execute_result"
    }
   ],
   "source": [
    "cg = CoinGeckoAPI()\n",
    "bitcoin_data = cg.get_coin_market_chart_by_id(id=\"bitcoin\", vs_currency=\"usd\", days=30)\n",
    "\n",
    "bitcoin_data[\"prices\"][:10]"
   ]
  },
  {
   "cell_type": "code",
   "execution_count": 51,
   "id": "c399264c",
   "metadata": {},
   "outputs": [
    {
     "data": {
      "text/html": [
       "<div>\n",
       "<style scoped>\n",
       "    .dataframe tbody tr th:only-of-type {\n",
       "        vertical-align: middle;\n",
       "    }\n",
       "\n",
       "    .dataframe tbody tr th {\n",
       "        vertical-align: top;\n",
       "    }\n",
       "\n",
       "    .dataframe thead th {\n",
       "        text-align: right;\n",
       "    }\n",
       "</style>\n",
       "<table border=\"1\" class=\"dataframe\">\n",
       "  <thead>\n",
       "    <tr style=\"text-align: right;\">\n",
       "      <th></th>\n",
       "      <th>TimeStamp</th>\n",
       "      <th>Price</th>\n",
       "    </tr>\n",
       "  </thead>\n",
       "  <tbody>\n",
       "    <tr>\n",
       "      <th>0</th>\n",
       "      <td>1756652501914</td>\n",
       "      <td>108462.076831</td>\n",
       "    </tr>\n",
       "    <tr>\n",
       "      <th>1</th>\n",
       "      <td>1756656141408</td>\n",
       "      <td>108786.164045</td>\n",
       "    </tr>\n",
       "    <tr>\n",
       "      <th>2</th>\n",
       "      <td>1756659637043</td>\n",
       "      <td>108949.126660</td>\n",
       "    </tr>\n",
       "    <tr>\n",
       "      <th>3</th>\n",
       "      <td>1756663271785</td>\n",
       "      <td>108979.486334</td>\n",
       "    </tr>\n",
       "    <tr>\n",
       "      <th>4</th>\n",
       "      <td>1756666912435</td>\n",
       "      <td>109131.679371</td>\n",
       "    </tr>\n",
       "    <tr>\n",
       "      <th>...</th>\n",
       "      <td>...</td>\n",
       "      <td>...</td>\n",
       "    </tr>\n",
       "    <tr>\n",
       "      <th>716</th>\n",
       "      <td>1759230136030</td>\n",
       "      <td>113034.887542</td>\n",
       "    </tr>\n",
       "    <tr>\n",
       "      <th>717</th>\n",
       "      <td>1759233682003</td>\n",
       "      <td>113090.666326</td>\n",
       "    </tr>\n",
       "    <tr>\n",
       "      <th>718</th>\n",
       "      <td>1759237329316</td>\n",
       "      <td>113153.918953</td>\n",
       "    </tr>\n",
       "    <tr>\n",
       "      <th>719</th>\n",
       "      <td>1759240935094</td>\n",
       "      <td>113286.250464</td>\n",
       "    </tr>\n",
       "    <tr>\n",
       "      <th>720</th>\n",
       "      <td>1759243882000</td>\n",
       "      <td>113486.095755</td>\n",
       "    </tr>\n",
       "  </tbody>\n",
       "</table>\n",
       "<p>721 rows × 2 columns</p>\n",
       "</div>"
      ],
      "text/plain": [
       "         TimeStamp          Price\n",
       "0    1756652501914  108462.076831\n",
       "1    1756656141408  108786.164045\n",
       "2    1756659637043  108949.126660\n",
       "3    1756663271785  108979.486334\n",
       "4    1756666912435  109131.679371\n",
       "..             ...            ...\n",
       "716  1759230136030  113034.887542\n",
       "717  1759233682003  113090.666326\n",
       "718  1759237329316  113153.918953\n",
       "719  1759240935094  113286.250464\n",
       "720  1759243882000  113486.095755\n",
       "\n",
       "[721 rows x 2 columns]"
      ]
     },
     "execution_count": 51,
     "metadata": {},
     "output_type": "execute_result"
    }
   ],
   "source": [
    "bitcoin_price_data = bitcoin_data[\"prices\"]\n",
    "data = pd.DataFrame(bitcoin_price_data, columns=[\"TimeStamp\", \"Price\"])\n",
    "\n",
    "data"
   ]
  },
  {
   "cell_type": "code",
   "execution_count": 52,
   "id": "8ed60dc4",
   "metadata": {},
   "outputs": [
    {
     "data": {
      "text/html": [
       "<div>\n",
       "<style scoped>\n",
       "    .dataframe tbody tr th:only-of-type {\n",
       "        vertical-align: middle;\n",
       "    }\n",
       "\n",
       "    .dataframe tbody tr th {\n",
       "        vertical-align: top;\n",
       "    }\n",
       "\n",
       "    .dataframe thead th {\n",
       "        text-align: right;\n",
       "    }\n",
       "</style>\n",
       "<table border=\"1\" class=\"dataframe\">\n",
       "  <thead>\n",
       "    <tr style=\"text-align: right;\">\n",
       "      <th></th>\n",
       "      <th>TimeStamp</th>\n",
       "      <th>Price</th>\n",
       "      <th>date</th>\n",
       "    </tr>\n",
       "  </thead>\n",
       "  <tbody>\n",
       "    <tr>\n",
       "      <th>0</th>\n",
       "      <td>1756652501914</td>\n",
       "      <td>108462.076831</td>\n",
       "      <td>2025-08-31</td>\n",
       "    </tr>\n",
       "    <tr>\n",
       "      <th>1</th>\n",
       "      <td>1756656141408</td>\n",
       "      <td>108786.164045</td>\n",
       "      <td>2025-08-31</td>\n",
       "    </tr>\n",
       "    <tr>\n",
       "      <th>2</th>\n",
       "      <td>1756659637043</td>\n",
       "      <td>108949.126660</td>\n",
       "      <td>2025-08-31</td>\n",
       "    </tr>\n",
       "    <tr>\n",
       "      <th>3</th>\n",
       "      <td>1756663271785</td>\n",
       "      <td>108979.486334</td>\n",
       "      <td>2025-08-31</td>\n",
       "    </tr>\n",
       "    <tr>\n",
       "      <th>4</th>\n",
       "      <td>1756666912435</td>\n",
       "      <td>109131.679371</td>\n",
       "      <td>2025-08-31</td>\n",
       "    </tr>\n",
       "    <tr>\n",
       "      <th>...</th>\n",
       "      <td>...</td>\n",
       "      <td>...</td>\n",
       "      <td>...</td>\n",
       "    </tr>\n",
       "    <tr>\n",
       "      <th>716</th>\n",
       "      <td>1759230136030</td>\n",
       "      <td>113034.887542</td>\n",
       "      <td>2025-09-30</td>\n",
       "    </tr>\n",
       "    <tr>\n",
       "      <th>717</th>\n",
       "      <td>1759233682003</td>\n",
       "      <td>113090.666326</td>\n",
       "      <td>2025-09-30</td>\n",
       "    </tr>\n",
       "    <tr>\n",
       "      <th>718</th>\n",
       "      <td>1759237329316</td>\n",
       "      <td>113153.918953</td>\n",
       "      <td>2025-09-30</td>\n",
       "    </tr>\n",
       "    <tr>\n",
       "      <th>719</th>\n",
       "      <td>1759240935094</td>\n",
       "      <td>113286.250464</td>\n",
       "      <td>2025-09-30</td>\n",
       "    </tr>\n",
       "    <tr>\n",
       "      <th>720</th>\n",
       "      <td>1759243882000</td>\n",
       "      <td>113486.095755</td>\n",
       "      <td>2025-09-30</td>\n",
       "    </tr>\n",
       "  </tbody>\n",
       "</table>\n",
       "<p>721 rows × 3 columns</p>\n",
       "</div>"
      ],
      "text/plain": [
       "         TimeStamp          Price        date\n",
       "0    1756652501914  108462.076831  2025-08-31\n",
       "1    1756656141408  108786.164045  2025-08-31\n",
       "2    1756659637043  108949.126660  2025-08-31\n",
       "3    1756663271785  108979.486334  2025-08-31\n",
       "4    1756666912435  109131.679371  2025-08-31\n",
       "..             ...            ...         ...\n",
       "716  1759230136030  113034.887542  2025-09-30\n",
       "717  1759233682003  113090.666326  2025-09-30\n",
       "718  1759237329316  113153.918953  2025-09-30\n",
       "719  1759240935094  113286.250464  2025-09-30\n",
       "720  1759243882000  113486.095755  2025-09-30\n",
       "\n",
       "[721 rows x 3 columns]"
      ]
     },
     "execution_count": 52,
     "metadata": {},
     "output_type": "execute_result"
    }
   ],
   "source": [
    "# format date add date column\n",
    "data[\"date\"] = data[\"TimeStamp\"].apply(\n",
    "    lambda d: datetime.date.fromtimestamp(d / 1000.0)\n",
    ")\n",
    "\n",
    "data"
   ]
  },
  {
   "cell_type": "code",
   "execution_count": 53,
   "id": "f270640e",
   "metadata": {},
   "outputs": [
    {
     "data": {
      "text/html": [
       "<div>\n",
       "<style scoped>\n",
       "    .dataframe tbody tr th:only-of-type {\n",
       "        vertical-align: middle;\n",
       "    }\n",
       "\n",
       "    .dataframe tbody tr th {\n",
       "        vertical-align: top;\n",
       "    }\n",
       "\n",
       "    .dataframe thead tr th {\n",
       "        text-align: left;\n",
       "    }\n",
       "</style>\n",
       "<table border=\"1\" class=\"dataframe\">\n",
       "  <thead>\n",
       "    <tr>\n",
       "      <th></th>\n",
       "      <th>date</th>\n",
       "      <th colspan=\"4\" halign=\"left\">Price</th>\n",
       "    </tr>\n",
       "    <tr>\n",
       "      <th></th>\n",
       "      <th></th>\n",
       "      <th>min</th>\n",
       "      <th>max</th>\n",
       "      <th>first</th>\n",
       "      <th>last</th>\n",
       "    </tr>\n",
       "  </thead>\n",
       "  <tbody>\n",
       "    <tr>\n",
       "      <th>0</th>\n",
       "      <td>2025-08-31</td>\n",
       "      <td>108462.076831</td>\n",
       "      <td>109131.679371</td>\n",
       "      <td>108462.076831</td>\n",
       "      <td>108922.730739</td>\n",
       "    </tr>\n",
       "    <tr>\n",
       "      <th>1</th>\n",
       "      <td>2025-09-01</td>\n",
       "      <td>107414.442250</td>\n",
       "      <td>109681.776742</td>\n",
       "      <td>109066.366551</td>\n",
       "      <td>109204.427254</td>\n",
       "    </tr>\n",
       "    <tr>\n",
       "      <th>2</th>\n",
       "      <td>2025-09-02</td>\n",
       "      <td>107541.658500</td>\n",
       "      <td>111219.975000</td>\n",
       "      <td>108788.136907</td>\n",
       "      <td>110752.303454</td>\n",
       "    </tr>\n",
       "    <tr>\n",
       "      <th>3</th>\n",
       "      <td>2025-09-03</td>\n",
       "      <td>110690.278112</td>\n",
       "      <td>112380.369638</td>\n",
       "      <td>111395.041655</td>\n",
       "      <td>112156.224118</td>\n",
       "    </tr>\n",
       "    <tr>\n",
       "      <th>4</th>\n",
       "      <td>2025-09-04</td>\n",
       "      <td>109497.723469</td>\n",
       "      <td>112230.160366</td>\n",
       "      <td>112230.160366</td>\n",
       "      <td>109873.893092</td>\n",
       "    </tr>\n",
       "    <tr>\n",
       "      <th>5</th>\n",
       "      <td>2025-09-05</td>\n",
       "      <td>110403.239035</td>\n",
       "      <td>113225.000213</td>\n",
       "      <td>110403.239035</td>\n",
       "      <td>111445.250207</td>\n",
       "    </tr>\n",
       "    <tr>\n",
       "      <th>6</th>\n",
       "      <td>2025-09-06</td>\n",
       "      <td>110054.773314</td>\n",
       "      <td>111619.386202</td>\n",
       "      <td>111619.386202</td>\n",
       "      <td>110054.773314</td>\n",
       "    </tr>\n",
       "    <tr>\n",
       "      <th>7</th>\n",
       "      <td>2025-09-07</td>\n",
       "      <td>110174.333714</td>\n",
       "      <td>111347.479269</td>\n",
       "      <td>110174.333714</td>\n",
       "      <td>111232.347963</td>\n",
       "    </tr>\n",
       "    <tr>\n",
       "      <th>8</th>\n",
       "      <td>2025-09-08</td>\n",
       "      <td>110836.313956</td>\n",
       "      <td>112601.637580</td>\n",
       "      <td>111325.774083</td>\n",
       "      <td>112067.347002</td>\n",
       "    </tr>\n",
       "    <tr>\n",
       "      <th>9</th>\n",
       "      <td>2025-09-09</td>\n",
       "      <td>110870.226491</td>\n",
       "      <td>113112.942019</td>\n",
       "      <td>112025.168573</td>\n",
       "      <td>111319.253012</td>\n",
       "    </tr>\n",
       "    <tr>\n",
       "      <th>10</th>\n",
       "      <td>2025-09-10</td>\n",
       "      <td>111023.099571</td>\n",
       "      <td>113934.396698</td>\n",
       "      <td>111359.195853</td>\n",
       "      <td>113402.845604</td>\n",
       "    </tr>\n",
       "    <tr>\n",
       "      <th>11</th>\n",
       "      <td>2025-09-11</td>\n",
       "      <td>113625.820288</td>\n",
       "      <td>114546.629069</td>\n",
       "      <td>113625.820288</td>\n",
       "      <td>114435.889092</td>\n",
       "    </tr>\n",
       "    <tr>\n",
       "      <th>12</th>\n",
       "      <td>2025-09-12</td>\n",
       "      <td>114402.348650</td>\n",
       "      <td>116704.714866</td>\n",
       "      <td>114402.348650</td>\n",
       "      <td>116704.714866</td>\n",
       "    </tr>\n",
       "    <tr>\n",
       "      <th>13</th>\n",
       "      <td>2025-09-13</td>\n",
       "      <td>115342.814107</td>\n",
       "      <td>116299.905741</td>\n",
       "      <td>116206.138077</td>\n",
       "      <td>115837.628677</td>\n",
       "    </tr>\n",
       "    <tr>\n",
       "      <th>14</th>\n",
       "      <td>2025-09-14</td>\n",
       "      <td>115264.810470</td>\n",
       "      <td>116143.869783</td>\n",
       "      <td>115975.606658</td>\n",
       "      <td>115673.898845</td>\n",
       "    </tr>\n",
       "    <tr>\n",
       "      <th>15</th>\n",
       "      <td>2025-09-15</td>\n",
       "      <td>114696.006061</td>\n",
       "      <td>116552.241074</td>\n",
       "      <td>115854.913508</td>\n",
       "      <td>115314.095872</td>\n",
       "    </tr>\n",
       "    <tr>\n",
       "      <th>16</th>\n",
       "      <td>2025-09-16</td>\n",
       "      <td>115019.095780</td>\n",
       "      <td>116804.438671</td>\n",
       "      <td>115315.757154</td>\n",
       "      <td>116804.438671</td>\n",
       "    </tr>\n",
       "    <tr>\n",
       "      <th>17</th>\n",
       "      <td>2025-09-17</td>\n",
       "      <td>115194.307804</td>\n",
       "      <td>117256.585491</td>\n",
       "      <td>116882.781701</td>\n",
       "      <td>115721.459931</td>\n",
       "    </tr>\n",
       "    <tr>\n",
       "      <th>18</th>\n",
       "      <td>2025-09-18</td>\n",
       "      <td>115649.823583</td>\n",
       "      <td>117851.185392</td>\n",
       "      <td>115649.823583</td>\n",
       "      <td>117479.654706</td>\n",
       "    </tr>\n",
       "    <tr>\n",
       "      <th>19</th>\n",
       "      <td>2025-09-19</td>\n",
       "      <td>115157.378419</td>\n",
       "      <td>117575.953057</td>\n",
       "      <td>117575.953057</td>\n",
       "      <td>115157.378419</td>\n",
       "    </tr>\n",
       "    <tr>\n",
       "      <th>20</th>\n",
       "      <td>2025-09-20</td>\n",
       "      <td>115436.270663</td>\n",
       "      <td>116083.240792</td>\n",
       "      <td>115436.270663</td>\n",
       "      <td>115743.814932</td>\n",
       "    </tr>\n",
       "    <tr>\n",
       "      <th>21</th>\n",
       "      <td>2025-09-21</td>\n",
       "      <td>115382.615839</td>\n",
       "      <td>115851.047616</td>\n",
       "      <td>115760.457645</td>\n",
       "      <td>115529.534806</td>\n",
       "    </tr>\n",
       "    <tr>\n",
       "      <th>22</th>\n",
       "      <td>2025-09-22</td>\n",
       "      <td>112176.155768</td>\n",
       "      <td>115584.691054</td>\n",
       "      <td>115369.305067</td>\n",
       "      <td>112176.155768</td>\n",
       "    </tr>\n",
       "    <tr>\n",
       "      <th>23</th>\n",
       "      <td>2025-09-23</td>\n",
       "      <td>111658.229488</td>\n",
       "      <td>113153.926988</td>\n",
       "      <td>112694.311547</td>\n",
       "      <td>111658.229488</td>\n",
       "    </tr>\n",
       "    <tr>\n",
       "      <th>24</th>\n",
       "      <td>2025-09-24</td>\n",
       "      <td>111715.174944</td>\n",
       "      <td>113874.186964</td>\n",
       "      <td>111866.496292</td>\n",
       "      <td>113488.982377</td>\n",
       "    </tr>\n",
       "    <tr>\n",
       "      <th>25</th>\n",
       "      <td>2025-09-25</td>\n",
       "      <td>109003.342952</td>\n",
       "      <td>113517.576693</td>\n",
       "      <td>113517.576693</td>\n",
       "      <td>109479.267830</td>\n",
       "    </tr>\n",
       "    <tr>\n",
       "      <th>26</th>\n",
       "      <td>2025-09-26</td>\n",
       "      <td>108963.530136</td>\n",
       "      <td>109855.697774</td>\n",
       "      <td>109170.430541</td>\n",
       "      <td>109258.922940</td>\n",
       "    </tr>\n",
       "    <tr>\n",
       "      <th>27</th>\n",
       "      <td>2025-09-27</td>\n",
       "      <td>109302.715768</td>\n",
       "      <td>109710.208747</td>\n",
       "      <td>109302.715768</td>\n",
       "      <td>109455.416770</td>\n",
       "    </tr>\n",
       "    <tr>\n",
       "      <th>28</th>\n",
       "      <td>2025-09-28</td>\n",
       "      <td>109340.758878</td>\n",
       "      <td>110358.271079</td>\n",
       "      <td>109417.497859</td>\n",
       "      <td>110358.271079</td>\n",
       "    </tr>\n",
       "    <tr>\n",
       "      <th>29</th>\n",
       "      <td>2025-09-29</td>\n",
       "      <td>110748.345984</td>\n",
       "      <td>114267.658155</td>\n",
       "      <td>110842.578688</td>\n",
       "      <td>114267.658155</td>\n",
       "    </tr>\n",
       "    <tr>\n",
       "      <th>30</th>\n",
       "      <td>2025-09-30</td>\n",
       "      <td>112890.221010</td>\n",
       "      <td>114591.640752</td>\n",
       "      <td>114335.555816</td>\n",
       "      <td>113486.095755</td>\n",
       "    </tr>\n",
       "  </tbody>\n",
       "</table>\n",
       "</div>"
      ],
      "text/plain": [
       "          date          Price                                             \n",
       "                          min            max          first           last\n",
       "0   2025-08-31  108462.076831  109131.679371  108462.076831  108922.730739\n",
       "1   2025-09-01  107414.442250  109681.776742  109066.366551  109204.427254\n",
       "2   2025-09-02  107541.658500  111219.975000  108788.136907  110752.303454\n",
       "3   2025-09-03  110690.278112  112380.369638  111395.041655  112156.224118\n",
       "4   2025-09-04  109497.723469  112230.160366  112230.160366  109873.893092\n",
       "5   2025-09-05  110403.239035  113225.000213  110403.239035  111445.250207\n",
       "6   2025-09-06  110054.773314  111619.386202  111619.386202  110054.773314\n",
       "7   2025-09-07  110174.333714  111347.479269  110174.333714  111232.347963\n",
       "8   2025-09-08  110836.313956  112601.637580  111325.774083  112067.347002\n",
       "9   2025-09-09  110870.226491  113112.942019  112025.168573  111319.253012\n",
       "10  2025-09-10  111023.099571  113934.396698  111359.195853  113402.845604\n",
       "11  2025-09-11  113625.820288  114546.629069  113625.820288  114435.889092\n",
       "12  2025-09-12  114402.348650  116704.714866  114402.348650  116704.714866\n",
       "13  2025-09-13  115342.814107  116299.905741  116206.138077  115837.628677\n",
       "14  2025-09-14  115264.810470  116143.869783  115975.606658  115673.898845\n",
       "15  2025-09-15  114696.006061  116552.241074  115854.913508  115314.095872\n",
       "16  2025-09-16  115019.095780  116804.438671  115315.757154  116804.438671\n",
       "17  2025-09-17  115194.307804  117256.585491  116882.781701  115721.459931\n",
       "18  2025-09-18  115649.823583  117851.185392  115649.823583  117479.654706\n",
       "19  2025-09-19  115157.378419  117575.953057  117575.953057  115157.378419\n",
       "20  2025-09-20  115436.270663  116083.240792  115436.270663  115743.814932\n",
       "21  2025-09-21  115382.615839  115851.047616  115760.457645  115529.534806\n",
       "22  2025-09-22  112176.155768  115584.691054  115369.305067  112176.155768\n",
       "23  2025-09-23  111658.229488  113153.926988  112694.311547  111658.229488\n",
       "24  2025-09-24  111715.174944  113874.186964  111866.496292  113488.982377\n",
       "25  2025-09-25  109003.342952  113517.576693  113517.576693  109479.267830\n",
       "26  2025-09-26  108963.530136  109855.697774  109170.430541  109258.922940\n",
       "27  2025-09-27  109302.715768  109710.208747  109302.715768  109455.416770\n",
       "28  2025-09-28  109340.758878  110358.271079  109417.497859  110358.271079\n",
       "29  2025-09-29  110748.345984  114267.658155  110842.578688  114267.658155\n",
       "30  2025-09-30  112890.221010  114591.640752  114335.555816  113486.095755"
      ]
     },
     "execution_count": 53,
     "metadata": {},
     "output_type": "execute_result"
    }
   ],
   "source": [
    "candlestick_data = data.groupby(data.date, as_index=False).agg(\n",
    "    {\"Price\": [\"min\", \"max\", \"first\", \"last\"]}\n",
    ")\n",
    "candlestick_data"
   ]
  },
  {
   "cell_type": "code",
   "execution_count": 56,
   "id": "121e3536",
   "metadata": {},
   "outputs": [
    {
     "ename": "ValueError",
     "evalue": "Mime type rendering requires nbformat>=4.2.0 but it is not installed",
     "output_type": "error",
     "traceback": [
      "\u001b[31m---------------------------------------------------------------------------\u001b[39m",
      "\u001b[31mValueError\u001b[39m                                Traceback (most recent call last)",
      "\u001b[36mFile \u001b[39m\u001b[32m~/Library/Python/3.13/lib/python/site-packages/IPython/core/formatters.py:984\u001b[39m, in \u001b[36mIPythonDisplayFormatter.__call__\u001b[39m\u001b[34m(self, obj)\u001b[39m\n\u001b[32m    982\u001b[39m method = get_real_method(obj, \u001b[38;5;28mself\u001b[39m.print_method)\n\u001b[32m    983\u001b[39m \u001b[38;5;28;01mif\u001b[39;00m method \u001b[38;5;129;01mis\u001b[39;00m \u001b[38;5;129;01mnot\u001b[39;00m \u001b[38;5;28;01mNone\u001b[39;00m:\n\u001b[32m--> \u001b[39m\u001b[32m984\u001b[39m     \u001b[43mmethod\u001b[49m\u001b[43m(\u001b[49m\u001b[43m)\u001b[49m\n\u001b[32m    985\u001b[39m     \u001b[38;5;28;01mreturn\u001b[39;00m \u001b[38;5;28;01mTrue\u001b[39;00m\n",
      "\u001b[36mFile \u001b[39m\u001b[32m/Library/Frameworks/Python.framework/Versions/3.13/lib/python3.13/site-packages/plotly/basedatatypes.py:850\u001b[39m, in \u001b[36mBaseFigure._ipython_display_\u001b[39m\u001b[34m(self)\u001b[39m\n\u001b[32m    847\u001b[39m \u001b[38;5;28;01mimport\u001b[39;00m\u001b[38;5;250m \u001b[39m\u001b[34;01mplotly\u001b[39;00m\u001b[34;01m.\u001b[39;00m\u001b[34;01mio\u001b[39;00m\u001b[38;5;250m \u001b[39m\u001b[38;5;28;01mas\u001b[39;00m\u001b[38;5;250m \u001b[39m\u001b[34;01mpio\u001b[39;00m\n\u001b[32m    849\u001b[39m \u001b[38;5;28;01mif\u001b[39;00m pio.renderers.render_on_display \u001b[38;5;129;01mand\u001b[39;00m pio.renderers.default:\n\u001b[32m--> \u001b[39m\u001b[32m850\u001b[39m     \u001b[43mpio\u001b[49m\u001b[43m.\u001b[49m\u001b[43mshow\u001b[49m\u001b[43m(\u001b[49m\u001b[38;5;28;43mself\u001b[39;49m\u001b[43m)\u001b[49m\n\u001b[32m    851\u001b[39m \u001b[38;5;28;01melse\u001b[39;00m:\n\u001b[32m    852\u001b[39m     \u001b[38;5;28mprint\u001b[39m(\u001b[38;5;28mrepr\u001b[39m(\u001b[38;5;28mself\u001b[39m))\n",
      "\u001b[36mFile \u001b[39m\u001b[32m/Library/Frameworks/Python.framework/Versions/3.13/lib/python3.13/site-packages/plotly/io/_renderers.py:415\u001b[39m, in \u001b[36mshow\u001b[39m\u001b[34m(fig, renderer, validate, **kwargs)\u001b[39m\n\u001b[32m    410\u001b[39m     \u001b[38;5;28;01mraise\u001b[39;00m \u001b[38;5;167;01mValueError\u001b[39;00m(\n\u001b[32m    411\u001b[39m         \u001b[33m\"\u001b[39m\u001b[33mMime type rendering requires ipython but it is not installed\u001b[39m\u001b[33m\"\u001b[39m\n\u001b[32m    412\u001b[39m     )\n\u001b[32m    414\u001b[39m \u001b[38;5;28;01mif\u001b[39;00m \u001b[38;5;129;01mnot\u001b[39;00m nbformat \u001b[38;5;129;01mor\u001b[39;00m Version(nbformat.__version__) < Version(\u001b[33m\"\u001b[39m\u001b[33m4.2.0\u001b[39m\u001b[33m\"\u001b[39m):\n\u001b[32m--> \u001b[39m\u001b[32m415\u001b[39m     \u001b[38;5;28;01mraise\u001b[39;00m \u001b[38;5;167;01mValueError\u001b[39;00m(\n\u001b[32m    416\u001b[39m         \u001b[33m\"\u001b[39m\u001b[33mMime type rendering requires nbformat>=4.2.0 but it is not installed\u001b[39m\u001b[33m\"\u001b[39m\n\u001b[32m    417\u001b[39m     )\n\u001b[32m    419\u001b[39m display_jupyter_version_warnings()\n\u001b[32m    421\u001b[39m ipython_display.display(bundle, raw=\u001b[38;5;28;01mTrue\u001b[39;00m)\n",
      "\u001b[31mValueError\u001b[39m: Mime type rendering requires nbformat>=4.2.0 but it is not installed"
     ]
    },
    {
     "data": {
      "application/vnd.plotly.v1+json": {
       "config": {
        "plotlyServerURL": "https://plot.ly"
       },
       "data": [
        {
         "close": {
          "bdata": "z6EbsauX+kA52gfWRqn6QKuF8toECvtA/0v8lcNh+0DPfxpKHtP6QJgu2QBUNftABTp+X2ze+kBvukGRBSj7QAp/UY01XPtA5q5WDHQt+0AGuZeHra/7QHCJuDk+8PtAZwkXcAt+/EDjAxAP2kf8QEPmqmGePfxAWTCxiCEn/EBPPcwER4T8QMQ24FuXQPxAHUateXqu/EA7GAEOVh38QLru9Qn9QfxAYjiQjpg0/EB4sgZ+AmP7QE4O/KujQvtApnDRtw+1+0AEJghJdLr6QDKtXMSurPpAcagWq/a4+kDiFldWZPH6QISHzYe65ftABm02iOG0+0A=",
          "dtype": "f8"
         },
         "high": {
          "bdata": "dxG03rqk+kBOZ4ltHMf6QKVCmZk/J/tANYYJ6sVv+0AAjNuQYmb7QD3x3gCQpPtAfYTiLTZA+0CODBarNy/7QAK1hjOafftAQOOCEo+d+0DKuN9Y5tD7QErtqhAq9/tAZwkXcAt+/EANUep9vmT8QJSXoer9WvxAuO5v24N0/EBPPcwER4T8QCZlK16JoPxAUahd97LF/EDwGrk/f7T8QA0lSdozV/xApCUJw7BI/ECwMI4OCzj8QI4d8dQeoPtAwQnO/SLN+0DLHSI62bb7QBlJFSr70fpAjMEGV+PI+kDiFldWZPH6QISHzYe65ftAwNaEQPr5+0A=",
          "dtype": "f8"
         },
         "low": {
          "bdata": "FR6zOuF6+kBlxHQTZzn6QC8VN4laQfpAWsklcyQG+0DJTFSTm7v6QHcpFtMz9PpABTp+X2ze+kCWrORW5eX6QDHY9gVFD/tAN1y1n2MR+0AdfNeX8Rr7QJ7K5h+dvftAxasRlCXu+0Ctn5QG7Sj8QEwKr/cMJPxAq6DTGIAA/EAkolCIsRT8QP+ew+ykH/xA3nllLR08/EA7GAEOVh38QGiHolTELvxAX0p62mkr/EB4sgZ+AmP7QE4O/KujQvtAk/mRzDJG+0BtY7t8tZz6QC/Xb3s4mvpAaxDJc2uv+kAO4VwkzLH6QKhMJonFCftAEpxBiaOP+0A=",
          "dtype": "f8"
         },
         "open": {
          "bdata": "FR6zOuF6+kDUymTdpaD6QNkYxTBCj/pAjW2eqjAy+0AAjNuQYmb7QHcpFtMz9PpAfYTiLTZA+0CWrORW5eX6QKXCpGLcLftANE95spJZ+0CRKjci8y/7QJ7K5h+dvftAxasRlCXu+0B62o814l78QIdX37R5UPxANg+6ne5I/EArTU0dPCf8QInG2IEsifxA3nllLR08/EDwGrk/f7T8QGiHolTELvxA99+DUgdD/EB1To7hlCr8QGMuGfxkg/tAbvzP8KdP+0DLHSI62bb7QPlyfuMmp/pAaxDJc2uv+kA1IDv3l7b6QPnxTUKpD/tA8dme5Pjp+0A=",
          "dtype": "f8"
         },
         "type": "candlestick",
         "x": [
          "2025-08-31",
          "2025-09-01",
          "2025-09-02",
          "2025-09-03",
          "2025-09-04",
          "2025-09-05",
          "2025-09-06",
          "2025-09-07",
          "2025-09-08",
          "2025-09-09",
          "2025-09-10",
          "2025-09-11",
          "2025-09-12",
          "2025-09-13",
          "2025-09-14",
          "2025-09-15",
          "2025-09-16",
          "2025-09-17",
          "2025-09-18",
          "2025-09-19",
          "2025-09-20",
          "2025-09-21",
          "2025-09-22",
          "2025-09-23",
          "2025-09-24",
          "2025-09-25",
          "2025-09-26",
          "2025-09-27",
          "2025-09-28",
          "2025-09-29",
          "2025-09-30"
         ]
        }
       ],
       "layout": {
        "template": {
         "data": {
          "bar": [
           {
            "error_x": {
             "color": "#2a3f5f"
            },
            "error_y": {
             "color": "#2a3f5f"
            },
            "marker": {
             "line": {
              "color": "#E5ECF6",
              "width": 0.5
             },
             "pattern": {
              "fillmode": "overlay",
              "size": 10,
              "solidity": 0.2
             }
            },
            "type": "bar"
           }
          ],
          "barpolar": [
           {
            "marker": {
             "line": {
              "color": "#E5ECF6",
              "width": 0.5
             },
             "pattern": {
              "fillmode": "overlay",
              "size": 10,
              "solidity": 0.2
             }
            },
            "type": "barpolar"
           }
          ],
          "carpet": [
           {
            "aaxis": {
             "endlinecolor": "#2a3f5f",
             "gridcolor": "white",
             "linecolor": "white",
             "minorgridcolor": "white",
             "startlinecolor": "#2a3f5f"
            },
            "baxis": {
             "endlinecolor": "#2a3f5f",
             "gridcolor": "white",
             "linecolor": "white",
             "minorgridcolor": "white",
             "startlinecolor": "#2a3f5f"
            },
            "type": "carpet"
           }
          ],
          "choropleth": [
           {
            "colorbar": {
             "outlinewidth": 0,
             "ticks": ""
            },
            "type": "choropleth"
           }
          ],
          "contour": [
           {
            "colorbar": {
             "outlinewidth": 0,
             "ticks": ""
            },
            "colorscale": [
             [
              0,
              "#0d0887"
             ],
             [
              0.1111111111111111,
              "#46039f"
             ],
             [
              0.2222222222222222,
              "#7201a8"
             ],
             [
              0.3333333333333333,
              "#9c179e"
             ],
             [
              0.4444444444444444,
              "#bd3786"
             ],
             [
              0.5555555555555556,
              "#d8576b"
             ],
             [
              0.6666666666666666,
              "#ed7953"
             ],
             [
              0.7777777777777778,
              "#fb9f3a"
             ],
             [
              0.8888888888888888,
              "#fdca26"
             ],
             [
              1,
              "#f0f921"
             ]
            ],
            "type": "contour"
           }
          ],
          "contourcarpet": [
           {
            "colorbar": {
             "outlinewidth": 0,
             "ticks": ""
            },
            "type": "contourcarpet"
           }
          ],
          "heatmap": [
           {
            "colorbar": {
             "outlinewidth": 0,
             "ticks": ""
            },
            "colorscale": [
             [
              0,
              "#0d0887"
             ],
             [
              0.1111111111111111,
              "#46039f"
             ],
             [
              0.2222222222222222,
              "#7201a8"
             ],
             [
              0.3333333333333333,
              "#9c179e"
             ],
             [
              0.4444444444444444,
              "#bd3786"
             ],
             [
              0.5555555555555556,
              "#d8576b"
             ],
             [
              0.6666666666666666,
              "#ed7953"
             ],
             [
              0.7777777777777778,
              "#fb9f3a"
             ],
             [
              0.8888888888888888,
              "#fdca26"
             ],
             [
              1,
              "#f0f921"
             ]
            ],
            "type": "heatmap"
           }
          ],
          "histogram": [
           {
            "marker": {
             "pattern": {
              "fillmode": "overlay",
              "size": 10,
              "solidity": 0.2
             }
            },
            "type": "histogram"
           }
          ],
          "histogram2d": [
           {
            "colorbar": {
             "outlinewidth": 0,
             "ticks": ""
            },
            "colorscale": [
             [
              0,
              "#0d0887"
             ],
             [
              0.1111111111111111,
              "#46039f"
             ],
             [
              0.2222222222222222,
              "#7201a8"
             ],
             [
              0.3333333333333333,
              "#9c179e"
             ],
             [
              0.4444444444444444,
              "#bd3786"
             ],
             [
              0.5555555555555556,
              "#d8576b"
             ],
             [
              0.6666666666666666,
              "#ed7953"
             ],
             [
              0.7777777777777778,
              "#fb9f3a"
             ],
             [
              0.8888888888888888,
              "#fdca26"
             ],
             [
              1,
              "#f0f921"
             ]
            ],
            "type": "histogram2d"
           }
          ],
          "histogram2dcontour": [
           {
            "colorbar": {
             "outlinewidth": 0,
             "ticks": ""
            },
            "colorscale": [
             [
              0,
              "#0d0887"
             ],
             [
              0.1111111111111111,
              "#46039f"
             ],
             [
              0.2222222222222222,
              "#7201a8"
             ],
             [
              0.3333333333333333,
              "#9c179e"
             ],
             [
              0.4444444444444444,
              "#bd3786"
             ],
             [
              0.5555555555555556,
              "#d8576b"
             ],
             [
              0.6666666666666666,
              "#ed7953"
             ],
             [
              0.7777777777777778,
              "#fb9f3a"
             ],
             [
              0.8888888888888888,
              "#fdca26"
             ],
             [
              1,
              "#f0f921"
             ]
            ],
            "type": "histogram2dcontour"
           }
          ],
          "mesh3d": [
           {
            "colorbar": {
             "outlinewidth": 0,
             "ticks": ""
            },
            "type": "mesh3d"
           }
          ],
          "parcoords": [
           {
            "line": {
             "colorbar": {
              "outlinewidth": 0,
              "ticks": ""
             }
            },
            "type": "parcoords"
           }
          ],
          "pie": [
           {
            "automargin": true,
            "type": "pie"
           }
          ],
          "scatter": [
           {
            "fillpattern": {
             "fillmode": "overlay",
             "size": 10,
             "solidity": 0.2
            },
            "type": "scatter"
           }
          ],
          "scatter3d": [
           {
            "line": {
             "colorbar": {
              "outlinewidth": 0,
              "ticks": ""
             }
            },
            "marker": {
             "colorbar": {
              "outlinewidth": 0,
              "ticks": ""
             }
            },
            "type": "scatter3d"
           }
          ],
          "scattercarpet": [
           {
            "marker": {
             "colorbar": {
              "outlinewidth": 0,
              "ticks": ""
             }
            },
            "type": "scattercarpet"
           }
          ],
          "scattergeo": [
           {
            "marker": {
             "colorbar": {
              "outlinewidth": 0,
              "ticks": ""
             }
            },
            "type": "scattergeo"
           }
          ],
          "scattergl": [
           {
            "marker": {
             "colorbar": {
              "outlinewidth": 0,
              "ticks": ""
             }
            },
            "type": "scattergl"
           }
          ],
          "scattermap": [
           {
            "marker": {
             "colorbar": {
              "outlinewidth": 0,
              "ticks": ""
             }
            },
            "type": "scattermap"
           }
          ],
          "scattermapbox": [
           {
            "marker": {
             "colorbar": {
              "outlinewidth": 0,
              "ticks": ""
             }
            },
            "type": "scattermapbox"
           }
          ],
          "scatterpolar": [
           {
            "marker": {
             "colorbar": {
              "outlinewidth": 0,
              "ticks": ""
             }
            },
            "type": "scatterpolar"
           }
          ],
          "scatterpolargl": [
           {
            "marker": {
             "colorbar": {
              "outlinewidth": 0,
              "ticks": ""
             }
            },
            "type": "scatterpolargl"
           }
          ],
          "scatterternary": [
           {
            "marker": {
             "colorbar": {
              "outlinewidth": 0,
              "ticks": ""
             }
            },
            "type": "scatterternary"
           }
          ],
          "surface": [
           {
            "colorbar": {
             "outlinewidth": 0,
             "ticks": ""
            },
            "colorscale": [
             [
              0,
              "#0d0887"
             ],
             [
              0.1111111111111111,
              "#46039f"
             ],
             [
              0.2222222222222222,
              "#7201a8"
             ],
             [
              0.3333333333333333,
              "#9c179e"
             ],
             [
              0.4444444444444444,
              "#bd3786"
             ],
             [
              0.5555555555555556,
              "#d8576b"
             ],
             [
              0.6666666666666666,
              "#ed7953"
             ],
             [
              0.7777777777777778,
              "#fb9f3a"
             ],
             [
              0.8888888888888888,
              "#fdca26"
             ],
             [
              1,
              "#f0f921"
             ]
            ],
            "type": "surface"
           }
          ],
          "table": [
           {
            "cells": {
             "fill": {
              "color": "#EBF0F8"
             },
             "line": {
              "color": "white"
             }
            },
            "header": {
             "fill": {
              "color": "#C8D4E3"
             },
             "line": {
              "color": "white"
             }
            },
            "type": "table"
           }
          ]
         },
         "layout": {
          "annotationdefaults": {
           "arrowcolor": "#2a3f5f",
           "arrowhead": 0,
           "arrowwidth": 1
          },
          "autotypenumbers": "strict",
          "coloraxis": {
           "colorbar": {
            "outlinewidth": 0,
            "ticks": ""
           }
          },
          "colorscale": {
           "diverging": [
            [
             0,
             "#8e0152"
            ],
            [
             0.1,
             "#c51b7d"
            ],
            [
             0.2,
             "#de77ae"
            ],
            [
             0.3,
             "#f1b6da"
            ],
            [
             0.4,
             "#fde0ef"
            ],
            [
             0.5,
             "#f7f7f7"
            ],
            [
             0.6,
             "#e6f5d0"
            ],
            [
             0.7,
             "#b8e186"
            ],
            [
             0.8,
             "#7fbc41"
            ],
            [
             0.9,
             "#4d9221"
            ],
            [
             1,
             "#276419"
            ]
           ],
           "sequential": [
            [
             0,
             "#0d0887"
            ],
            [
             0.1111111111111111,
             "#46039f"
            ],
            [
             0.2222222222222222,
             "#7201a8"
            ],
            [
             0.3333333333333333,
             "#9c179e"
            ],
            [
             0.4444444444444444,
             "#bd3786"
            ],
            [
             0.5555555555555556,
             "#d8576b"
            ],
            [
             0.6666666666666666,
             "#ed7953"
            ],
            [
             0.7777777777777778,
             "#fb9f3a"
            ],
            [
             0.8888888888888888,
             "#fdca26"
            ],
            [
             1,
             "#f0f921"
            ]
           ],
           "sequentialminus": [
            [
             0,
             "#0d0887"
            ],
            [
             0.1111111111111111,
             "#46039f"
            ],
            [
             0.2222222222222222,
             "#7201a8"
            ],
            [
             0.3333333333333333,
             "#9c179e"
            ],
            [
             0.4444444444444444,
             "#bd3786"
            ],
            [
             0.5555555555555556,
             "#d8576b"
            ],
            [
             0.6666666666666666,
             "#ed7953"
            ],
            [
             0.7777777777777778,
             "#fb9f3a"
            ],
            [
             0.8888888888888888,
             "#fdca26"
            ],
            [
             1,
             "#f0f921"
            ]
           ]
          },
          "colorway": [
           "#636efa",
           "#EF553B",
           "#00cc96",
           "#ab63fa",
           "#FFA15A",
           "#19d3f3",
           "#FF6692",
           "#B6E880",
           "#FF97FF",
           "#FECB52"
          ],
          "font": {
           "color": "#2a3f5f"
          },
          "geo": {
           "bgcolor": "white",
           "lakecolor": "white",
           "landcolor": "#E5ECF6",
           "showlakes": true,
           "showland": true,
           "subunitcolor": "white"
          },
          "hoverlabel": {
           "align": "left"
          },
          "hovermode": "closest",
          "mapbox": {
           "style": "light"
          },
          "paper_bgcolor": "white",
          "plot_bgcolor": "#E5ECF6",
          "polar": {
           "angularaxis": {
            "gridcolor": "white",
            "linecolor": "white",
            "ticks": ""
           },
           "bgcolor": "#E5ECF6",
           "radialaxis": {
            "gridcolor": "white",
            "linecolor": "white",
            "ticks": ""
           }
          },
          "scene": {
           "xaxis": {
            "backgroundcolor": "#E5ECF6",
            "gridcolor": "white",
            "gridwidth": 2,
            "linecolor": "white",
            "showbackground": true,
            "ticks": "",
            "zerolinecolor": "white"
           },
           "yaxis": {
            "backgroundcolor": "#E5ECF6",
            "gridcolor": "white",
            "gridwidth": 2,
            "linecolor": "white",
            "showbackground": true,
            "ticks": "",
            "zerolinecolor": "white"
           },
           "zaxis": {
            "backgroundcolor": "#E5ECF6",
            "gridcolor": "white",
            "gridwidth": 2,
            "linecolor": "white",
            "showbackground": true,
            "ticks": "",
            "zerolinecolor": "white"
           }
          },
          "shapedefaults": {
           "line": {
            "color": "#2a3f5f"
           }
          },
          "ternary": {
           "aaxis": {
            "gridcolor": "white",
            "linecolor": "white",
            "ticks": ""
           },
           "baxis": {
            "gridcolor": "white",
            "linecolor": "white",
            "ticks": ""
           },
           "bgcolor": "#E5ECF6",
           "caxis": {
            "gridcolor": "white",
            "linecolor": "white",
            "ticks": ""
           }
          },
          "title": {
           "x": 0.05
          },
          "xaxis": {
           "automargin": true,
           "gridcolor": "white",
           "linecolor": "white",
           "ticks": "",
           "title": {
            "standoff": 15
           },
           "zerolinecolor": "white",
           "zerolinewidth": 2
          },
          "yaxis": {
           "automargin": true,
           "gridcolor": "white",
           "linecolor": "white",
           "ticks": "",
           "title": {
            "standoff": 15
           },
           "zerolinecolor": "white",
           "zerolinewidth": 2
          }
         }
        },
        "xaxis": {
         "rangeslider": {
          "visible": false
         }
        }
       }
      },
      "text/html": [
       "<div>                        <script type=\"text/javascript\">window.PlotlyConfig = {MathJaxConfig: 'local'};</script>\n",
       "        <script charset=\"utf-8\" src=\"https://cdn.plot.ly/plotly-3.1.0.min.js\" integrity=\"sha256-Ei4740bWZhaUTQuD6q9yQlgVCMPBz6CZWhevDYPv93A=\" crossorigin=\"anonymous\"></script>                <div id=\"0192f347-19a2-4891-a092-2b2d9da69b68\" class=\"plotly-graph-div\" style=\"height:100%; width:100%;\"></div>            <script type=\"text/javascript\">                window.PLOTLYENV=window.PLOTLYENV || {};                                if (document.getElementById(\"0192f347-19a2-4891-a092-2b2d9da69b68\")) {                    Plotly.newPlot(                        \"0192f347-19a2-4891-a092-2b2d9da69b68\",                        [{\"close\":{\"dtype\":\"f8\",\"bdata\":\"z6EbsauX+kA52gfWRqn6QKuF8toECvtA\\u002f0v8lcNh+0DPfxpKHtP6QJgu2QBUNftABTp+X2ze+kBvukGRBSj7QAp\\u002fUY01XPtA5q5WDHQt+0AGuZeHra\\u002f7QHCJuDk+8PtAZwkXcAt+\\u002fEDjAxAP2kf8QEPmqmGePfxAWTCxiCEn\\u002fEBPPcwER4T8QMQ24FuXQPxAHUateXqu\\u002fEA7GAEOVh38QLru9Qn9QfxAYjiQjpg0\\u002fEB4sgZ+AmP7QE4O\\u002fKujQvtApnDRtw+1+0AEJghJdLr6QDKtXMSurPpAcagWq\\u002fa4+kDiFldWZPH6QISHzYe65ftABm02iOG0+0A=\"},\"high\":{\"dtype\":\"f8\",\"bdata\":\"dxG03rqk+kBOZ4ltHMf6QKVCmZk\\u002fJ\\u002ftANYYJ6sVv+0AAjNuQYmb7QD3x3gCQpPtAfYTiLTZA+0CODBarNy\\u002f7QAK1hjOafftAQOOCEo+d+0DKuN9Y5tD7QErtqhAq9\\u002ftAZwkXcAt+\\u002fEANUep9vmT8QJSXoer9WvxAuO5v24N0\\u002fEBPPcwER4T8QCZlK16JoPxAUahd97LF\\u002fEDwGrk\\u002ff7T8QA0lSdozV\\u002fxApCUJw7BI\\u002fECwMI4OCzj8QI4d8dQeoPtAwQnO\\u002fSLN+0DLHSI62bb7QBlJFSr70fpAjMEGV+PI+kDiFldWZPH6QISHzYe65ftAwNaEQPr5+0A=\"},\"low\":{\"dtype\":\"f8\",\"bdata\":\"FR6zOuF6+kBlxHQTZzn6QC8VN4laQfpAWsklcyQG+0DJTFSTm7v6QHcpFtMz9PpABTp+X2ze+kCWrORW5eX6QDHY9gVFD\\u002ftAN1y1n2MR+0AdfNeX8Rr7QJ7K5h+dvftAxasRlCXu+0Ctn5QG7Sj8QEwKr\\u002fcMJPxAq6DTGIAA\\u002fEAkolCIsRT8QP+ew+ykH\\u002fxA3nllLR08\\u002fEA7GAEOVh38QGiHolTELvxAX0p62mkr\\u002fEB4sgZ+AmP7QE4O\\u002fKujQvtAk\\u002fmRzDJG+0BtY7t8tZz6QC\\u002fXb3s4mvpAaxDJc2uv+kAO4VwkzLH6QKhMJonFCftAEpxBiaOP+0A=\"},\"open\":{\"dtype\":\"f8\",\"bdata\":\"FR6zOuF6+kDUymTdpaD6QNkYxTBCj\\u002fpAjW2eqjAy+0AAjNuQYmb7QHcpFtMz9PpAfYTiLTZA+0CWrORW5eX6QKXCpGLcLftANE95spJZ+0CRKjci8y\\u002f7QJ7K5h+dvftAxasRlCXu+0B62o814l78QIdX37R5UPxANg+6ne5I\\u002fEArTU0dPCf8QInG2IEsifxA3nllLR08\\u002fEDwGrk\\u002ff7T8QGiHolTELvxA99+DUgdD\\u002fEB1To7hlCr8QGMuGfxkg\\u002ftAbvzP8KdP+0DLHSI62bb7QPlyfuMmp\\u002fpAaxDJc2uv+kA1IDv3l7b6QPnxTUKpD\\u002ftA8dme5Pjp+0A=\"},\"x\":[\"2025-08-31\",\"2025-09-01\",\"2025-09-02\",\"2025-09-03\",\"2025-09-04\",\"2025-09-05\",\"2025-09-06\",\"2025-09-07\",\"2025-09-08\",\"2025-09-09\",\"2025-09-10\",\"2025-09-11\",\"2025-09-12\",\"2025-09-13\",\"2025-09-14\",\"2025-09-15\",\"2025-09-16\",\"2025-09-17\",\"2025-09-18\",\"2025-09-19\",\"2025-09-20\",\"2025-09-21\",\"2025-09-22\",\"2025-09-23\",\"2025-09-24\",\"2025-09-25\",\"2025-09-26\",\"2025-09-27\",\"2025-09-28\",\"2025-09-29\",\"2025-09-30\"],\"type\":\"candlestick\"}],                        {\"template\":{\"data\":{\"histogram2dcontour\":[{\"type\":\"histogram2dcontour\",\"colorbar\":{\"outlinewidth\":0,\"ticks\":\"\"},\"colorscale\":[[0.0,\"#0d0887\"],[0.1111111111111111,\"#46039f\"],[0.2222222222222222,\"#7201a8\"],[0.3333333333333333,\"#9c179e\"],[0.4444444444444444,\"#bd3786\"],[0.5555555555555556,\"#d8576b\"],[0.6666666666666666,\"#ed7953\"],[0.7777777777777778,\"#fb9f3a\"],[0.8888888888888888,\"#fdca26\"],[1.0,\"#f0f921\"]]}],\"choropleth\":[{\"type\":\"choropleth\",\"colorbar\":{\"outlinewidth\":0,\"ticks\":\"\"}}],\"histogram2d\":[{\"type\":\"histogram2d\",\"colorbar\":{\"outlinewidth\":0,\"ticks\":\"\"},\"colorscale\":[[0.0,\"#0d0887\"],[0.1111111111111111,\"#46039f\"],[0.2222222222222222,\"#7201a8\"],[0.3333333333333333,\"#9c179e\"],[0.4444444444444444,\"#bd3786\"],[0.5555555555555556,\"#d8576b\"],[0.6666666666666666,\"#ed7953\"],[0.7777777777777778,\"#fb9f3a\"],[0.8888888888888888,\"#fdca26\"],[1.0,\"#f0f921\"]]}],\"heatmap\":[{\"type\":\"heatmap\",\"colorbar\":{\"outlinewidth\":0,\"ticks\":\"\"},\"colorscale\":[[0.0,\"#0d0887\"],[0.1111111111111111,\"#46039f\"],[0.2222222222222222,\"#7201a8\"],[0.3333333333333333,\"#9c179e\"],[0.4444444444444444,\"#bd3786\"],[0.5555555555555556,\"#d8576b\"],[0.6666666666666666,\"#ed7953\"],[0.7777777777777778,\"#fb9f3a\"],[0.8888888888888888,\"#fdca26\"],[1.0,\"#f0f921\"]]}],\"contourcarpet\":[{\"type\":\"contourcarpet\",\"colorbar\":{\"outlinewidth\":0,\"ticks\":\"\"}}],\"contour\":[{\"type\":\"contour\",\"colorbar\":{\"outlinewidth\":0,\"ticks\":\"\"},\"colorscale\":[[0.0,\"#0d0887\"],[0.1111111111111111,\"#46039f\"],[0.2222222222222222,\"#7201a8\"],[0.3333333333333333,\"#9c179e\"],[0.4444444444444444,\"#bd3786\"],[0.5555555555555556,\"#d8576b\"],[0.6666666666666666,\"#ed7953\"],[0.7777777777777778,\"#fb9f3a\"],[0.8888888888888888,\"#fdca26\"],[1.0,\"#f0f921\"]]}],\"surface\":[{\"type\":\"surface\",\"colorbar\":{\"outlinewidth\":0,\"ticks\":\"\"},\"colorscale\":[[0.0,\"#0d0887\"],[0.1111111111111111,\"#46039f\"],[0.2222222222222222,\"#7201a8\"],[0.3333333333333333,\"#9c179e\"],[0.4444444444444444,\"#bd3786\"],[0.5555555555555556,\"#d8576b\"],[0.6666666666666666,\"#ed7953\"],[0.7777777777777778,\"#fb9f3a\"],[0.8888888888888888,\"#fdca26\"],[1.0,\"#f0f921\"]]}],\"mesh3d\":[{\"type\":\"mesh3d\",\"colorbar\":{\"outlinewidth\":0,\"ticks\":\"\"}}],\"scatter\":[{\"fillpattern\":{\"fillmode\":\"overlay\",\"size\":10,\"solidity\":0.2},\"type\":\"scatter\"}],\"parcoords\":[{\"type\":\"parcoords\",\"line\":{\"colorbar\":{\"outlinewidth\":0,\"ticks\":\"\"}}}],\"scatterpolargl\":[{\"type\":\"scatterpolargl\",\"marker\":{\"colorbar\":{\"outlinewidth\":0,\"ticks\":\"\"}}}],\"bar\":[{\"error_x\":{\"color\":\"#2a3f5f\"},\"error_y\":{\"color\":\"#2a3f5f\"},\"marker\":{\"line\":{\"color\":\"#E5ECF6\",\"width\":0.5},\"pattern\":{\"fillmode\":\"overlay\",\"size\":10,\"solidity\":0.2}},\"type\":\"bar\"}],\"scattergeo\":[{\"type\":\"scattergeo\",\"marker\":{\"colorbar\":{\"outlinewidth\":0,\"ticks\":\"\"}}}],\"scatterpolar\":[{\"type\":\"scatterpolar\",\"marker\":{\"colorbar\":{\"outlinewidth\":0,\"ticks\":\"\"}}}],\"histogram\":[{\"marker\":{\"pattern\":{\"fillmode\":\"overlay\",\"size\":10,\"solidity\":0.2}},\"type\":\"histogram\"}],\"scattergl\":[{\"type\":\"scattergl\",\"marker\":{\"colorbar\":{\"outlinewidth\":0,\"ticks\":\"\"}}}],\"scatter3d\":[{\"type\":\"scatter3d\",\"line\":{\"colorbar\":{\"outlinewidth\":0,\"ticks\":\"\"}},\"marker\":{\"colorbar\":{\"outlinewidth\":0,\"ticks\":\"\"}}}],\"scattermap\":[{\"type\":\"scattermap\",\"marker\":{\"colorbar\":{\"outlinewidth\":0,\"ticks\":\"\"}}}],\"scattermapbox\":[{\"type\":\"scattermapbox\",\"marker\":{\"colorbar\":{\"outlinewidth\":0,\"ticks\":\"\"}}}],\"scatterternary\":[{\"type\":\"scatterternary\",\"marker\":{\"colorbar\":{\"outlinewidth\":0,\"ticks\":\"\"}}}],\"scattercarpet\":[{\"type\":\"scattercarpet\",\"marker\":{\"colorbar\":{\"outlinewidth\":0,\"ticks\":\"\"}}}],\"carpet\":[{\"aaxis\":{\"endlinecolor\":\"#2a3f5f\",\"gridcolor\":\"white\",\"linecolor\":\"white\",\"minorgridcolor\":\"white\",\"startlinecolor\":\"#2a3f5f\"},\"baxis\":{\"endlinecolor\":\"#2a3f5f\",\"gridcolor\":\"white\",\"linecolor\":\"white\",\"minorgridcolor\":\"white\",\"startlinecolor\":\"#2a3f5f\"},\"type\":\"carpet\"}],\"table\":[{\"cells\":{\"fill\":{\"color\":\"#EBF0F8\"},\"line\":{\"color\":\"white\"}},\"header\":{\"fill\":{\"color\":\"#C8D4E3\"},\"line\":{\"color\":\"white\"}},\"type\":\"table\"}],\"barpolar\":[{\"marker\":{\"line\":{\"color\":\"#E5ECF6\",\"width\":0.5},\"pattern\":{\"fillmode\":\"overlay\",\"size\":10,\"solidity\":0.2}},\"type\":\"barpolar\"}],\"pie\":[{\"automargin\":true,\"type\":\"pie\"}]},\"layout\":{\"autotypenumbers\":\"strict\",\"colorway\":[\"#636efa\",\"#EF553B\",\"#00cc96\",\"#ab63fa\",\"#FFA15A\",\"#19d3f3\",\"#FF6692\",\"#B6E880\",\"#FF97FF\",\"#FECB52\"],\"font\":{\"color\":\"#2a3f5f\"},\"hovermode\":\"closest\",\"hoverlabel\":{\"align\":\"left\"},\"paper_bgcolor\":\"white\",\"plot_bgcolor\":\"#E5ECF6\",\"polar\":{\"bgcolor\":\"#E5ECF6\",\"angularaxis\":{\"gridcolor\":\"white\",\"linecolor\":\"white\",\"ticks\":\"\"},\"radialaxis\":{\"gridcolor\":\"white\",\"linecolor\":\"white\",\"ticks\":\"\"}},\"ternary\":{\"bgcolor\":\"#E5ECF6\",\"aaxis\":{\"gridcolor\":\"white\",\"linecolor\":\"white\",\"ticks\":\"\"},\"baxis\":{\"gridcolor\":\"white\",\"linecolor\":\"white\",\"ticks\":\"\"},\"caxis\":{\"gridcolor\":\"white\",\"linecolor\":\"white\",\"ticks\":\"\"}},\"coloraxis\":{\"colorbar\":{\"outlinewidth\":0,\"ticks\":\"\"}},\"colorscale\":{\"sequential\":[[0.0,\"#0d0887\"],[0.1111111111111111,\"#46039f\"],[0.2222222222222222,\"#7201a8\"],[0.3333333333333333,\"#9c179e\"],[0.4444444444444444,\"#bd3786\"],[0.5555555555555556,\"#d8576b\"],[0.6666666666666666,\"#ed7953\"],[0.7777777777777778,\"#fb9f3a\"],[0.8888888888888888,\"#fdca26\"],[1.0,\"#f0f921\"]],\"sequentialminus\":[[0.0,\"#0d0887\"],[0.1111111111111111,\"#46039f\"],[0.2222222222222222,\"#7201a8\"],[0.3333333333333333,\"#9c179e\"],[0.4444444444444444,\"#bd3786\"],[0.5555555555555556,\"#d8576b\"],[0.6666666666666666,\"#ed7953\"],[0.7777777777777778,\"#fb9f3a\"],[0.8888888888888888,\"#fdca26\"],[1.0,\"#f0f921\"]],\"diverging\":[[0,\"#8e0152\"],[0.1,\"#c51b7d\"],[0.2,\"#de77ae\"],[0.3,\"#f1b6da\"],[0.4,\"#fde0ef\"],[0.5,\"#f7f7f7\"],[0.6,\"#e6f5d0\"],[0.7,\"#b8e186\"],[0.8,\"#7fbc41\"],[0.9,\"#4d9221\"],[1,\"#276419\"]]},\"xaxis\":{\"gridcolor\":\"white\",\"linecolor\":\"white\",\"ticks\":\"\",\"title\":{\"standoff\":15},\"zerolinecolor\":\"white\",\"automargin\":true,\"zerolinewidth\":2},\"yaxis\":{\"gridcolor\":\"white\",\"linecolor\":\"white\",\"ticks\":\"\",\"title\":{\"standoff\":15},\"zerolinecolor\":\"white\",\"automargin\":true,\"zerolinewidth\":2},\"scene\":{\"xaxis\":{\"backgroundcolor\":\"#E5ECF6\",\"gridcolor\":\"white\",\"linecolor\":\"white\",\"showbackground\":true,\"ticks\":\"\",\"zerolinecolor\":\"white\",\"gridwidth\":2},\"yaxis\":{\"backgroundcolor\":\"#E5ECF6\",\"gridcolor\":\"white\",\"linecolor\":\"white\",\"showbackground\":true,\"ticks\":\"\",\"zerolinecolor\":\"white\",\"gridwidth\":2},\"zaxis\":{\"backgroundcolor\":\"#E5ECF6\",\"gridcolor\":\"white\",\"linecolor\":\"white\",\"showbackground\":true,\"ticks\":\"\",\"zerolinecolor\":\"white\",\"gridwidth\":2}},\"shapedefaults\":{\"line\":{\"color\":\"#2a3f5f\"}},\"annotationdefaults\":{\"arrowcolor\":\"#2a3f5f\",\"arrowhead\":0,\"arrowwidth\":1},\"geo\":{\"bgcolor\":\"white\",\"landcolor\":\"#E5ECF6\",\"subunitcolor\":\"white\",\"showland\":true,\"showlakes\":true,\"lakecolor\":\"white\"},\"title\":{\"x\":0.05},\"mapbox\":{\"style\":\"light\"}}},\"xaxis\":{\"rangeslider\":{\"visible\":false}}},                        {\"responsive\": true}                    )                };            </script>        </div>"
      ],
      "text/plain": [
       "Figure({\n",
       "    'data': [{'close': {'bdata': ('z6EbsauX+kA52gfWRqn6QKuF8toECv' ... 'dWZPH6QISHzYe65ftABm02iOG0+0A='),\n",
       "                        'dtype': 'f8'},\n",
       "              'high': {'bdata': ('dxG03rqk+kBOZ4ltHMf6QKVCmZk/J/' ... 'dWZPH6QISHzYe65ftAwNaEQPr5+0A='),\n",
       "                       'dtype': 'f8'},\n",
       "              'low': {'bdata': ('FR6zOuF6+kBlxHQTZzn6QC8VN4laQf' ... 'wkzLH6QKhMJonFCftAEpxBiaOP+0A='),\n",
       "                      'dtype': 'f8'},\n",
       "              'open': {'bdata': ('FR6zOuF6+kDUymTdpaD6QNkYxTBCj/' ... 'v3l7b6QPnxTUKpD/tA8dme5Pjp+0A='),\n",
       "                       'dtype': 'f8'},\n",
       "              'type': 'candlestick',\n",
       "              'x': array([datetime.date(2025, 8, 31), datetime.date(2025, 9, 1),\n",
       "                          datetime.date(2025, 9, 2), datetime.date(2025, 9, 3),\n",
       "                          datetime.date(2025, 9, 4), datetime.date(2025, 9, 5),\n",
       "                          datetime.date(2025, 9, 6), datetime.date(2025, 9, 7),\n",
       "                          datetime.date(2025, 9, 8), datetime.date(2025, 9, 9),\n",
       "                          datetime.date(2025, 9, 10), datetime.date(2025, 9, 11),\n",
       "                          datetime.date(2025, 9, 12), datetime.date(2025, 9, 13),\n",
       "                          datetime.date(2025, 9, 14), datetime.date(2025, 9, 15),\n",
       "                          datetime.date(2025, 9, 16), datetime.date(2025, 9, 17),\n",
       "                          datetime.date(2025, 9, 18), datetime.date(2025, 9, 19),\n",
       "                          datetime.date(2025, 9, 20), datetime.date(2025, 9, 21),\n",
       "                          datetime.date(2025, 9, 22), datetime.date(2025, 9, 23),\n",
       "                          datetime.date(2025, 9, 24), datetime.date(2025, 9, 25),\n",
       "                          datetime.date(2025, 9, 26), datetime.date(2025, 9, 27),\n",
       "                          datetime.date(2025, 9, 28), datetime.date(2025, 9, 29),\n",
       "                          datetime.date(2025, 9, 30)], dtype=object)}],\n",
       "    'layout': {'template': '...', 'xaxis': {'rangeslider': {'visible': False}}}\n",
       "})"
      ]
     },
     "execution_count": 56,
     "metadata": {},
     "output_type": "execute_result"
    }
   ],
   "source": [
    "fig = go.Figure(\n",
    "    data=[\n",
    "        go.Candlestick(\n",
    "            x=candlestick_data[\"date\"],\n",
    "            open=candlestick_data[\"Price\"][\"first\"],\n",
    "            high=candlestick_data[\"Price\"][\"max\"],\n",
    "            low=candlestick_data[\"Price\"][\"min\"],\n",
    "            close=candlestick_data[\"Price\"][\"last\"],\n",
    "        )\n",
    "    ]\n",
    ")\n",
    "\n",
    "fig.update_layout(xaxis_rangeslider_visible=False)\n",
    "\n",
    "fig"
   ]
  }
 ],
 "metadata": {
  "kernelspec": {
   "display_name": "Python 3",
   "language": "python",
   "name": "python3"
  },
  "language_info": {
   "codemirror_mode": {
    "name": "ipython",
    "version": 3
   },
   "file_extension": ".py",
   "mimetype": "text/x-python",
   "name": "python",
   "nbconvert_exporter": "python",
   "pygments_lexer": "ipython3",
   "version": "3.13.7"
  }
 },
 "nbformat": 4,
 "nbformat_minor": 5
}
