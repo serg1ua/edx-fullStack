{
 "cells": [
  {
   "cell_type": "code",
   "execution_count": 9,
   "id": "41464831",
   "metadata": {},
   "outputs": [],
   "source": [
    "# Write line to file\n",
    "file = \"file1.txt\"\n",
    "with open(file, \"w\") as writefile:\n",
    "    writefile.write(\"This is line A\")"
   ]
  },
  {
   "cell_type": "code",
   "execution_count": null,
   "id": "dbd74e01",
   "metadata": {},
   "outputs": [],
   "source": [
    "# Read file\n",
    "file = \"file1.txt\"\n",
    "with open(file, \"r\") as readfile:\n",
    "    print(readfile.read())"
   ]
  },
  {
   "cell_type": "code",
   "execution_count": 11,
   "id": "7e8c74e6",
   "metadata": {},
   "outputs": [],
   "source": [
    "# Write lines to file\n",
    "file = \"file1.txt\"\n",
    "with open(file, \"w\") as writefile:\n",
    "    writefile.write(\"This is line A\\n\")\n",
    "    writefile.write(\"This is line B\\n\")"
   ]
  },
  {
   "cell_type": "code",
   "execution_count": null,
   "id": "4126a66d",
   "metadata": {},
   "outputs": [],
   "source": [
    "lines = [\"This is line A\\n\", \"This is line B\\n\", \"This is line C\\n\"]\n",
    "\n",
    "with open(\"file1.txt\", \"w\") as writefile:\n",
    "    for line in lines:\n",
    "        print(line)\n",
    "        writefile.write(line)"
   ]
  },
  {
   "cell_type": "code",
   "execution_count": 13,
   "id": "c638bafe",
   "metadata": {},
   "outputs": [],
   "source": [
    "# Write a new line to text file\n",
    "\n",
    "with open(\"file1.txt\", \"a\") as writefile:\n",
    "    writefile.write(\"This is line C\\n\")\n",
    "    writefile.write(\"This is line D\\n\")\n",
    "    writefile.write(\"This is line E\\n\")"
   ]
  },
  {
   "cell_type": "code",
   "execution_count": null,
   "id": "a2dc59f5",
   "metadata": {},
   "outputs": [],
   "source": [
    "with open(\"file1.txt\", \"a+\") as writefile:\n",
    "    writefile.write(\"This is line F\\n\")\n",
    "    # This will not print anything as the pointer is at the end of the file\n",
    "    print(writefile.read())\n",
    "    # Move the pointer to the beginning of the file\n",
    "    writefile.seek(0)\n",
    "    # This will print the entire file content\n",
    "    print(writefile.read())\n",
    "\n",
    "# .tell() - returns the current position in bytes\n",
    "# .seek(offset,from) - changes the position by 'offset' bytes with respect to 'from'.\n",
    "# From can take the value of 0,1,2 corresponding to beginning, relative to current position and end"
   ]
  },
  {
   "cell_type": "code",
   "execution_count": null,
   "id": "3de38bcb",
   "metadata": {},
   "outputs": [],
   "source": [
    "# Write and read file\n",
    "with open(\"file2.txt\", \"r+\") as writefile:\n",
    "    writefile.seek(0, 0)  # write at beginning of file\n",
    "    writefile.write(\"Line 1\" + \"\\n\")\n",
    "    writefile.write(\"Line 2\" + \"\\n\")\n",
    "    writefile.write(\"Line 3\" + \"\\n\")\n",
    "    writefile.write(\"Line 4\" + \"\\n\")\n",
    "    writefile.write(\"finished\\n\")\n",
    "    writefile.seek(0, 0)\n",
    "    print(writefile.read())\n",
    "\n",
    "    writefile.truncate()\n",
    "    # writefile.seek(0, 0)\n",
    "    print(writefile.read())"
   ]
  },
  {
   "cell_type": "code",
   "execution_count": 24,
   "id": "d2ba005c",
   "metadata": {},
   "outputs": [],
   "source": [
    "# Copy file to another\n",
    "\n",
    "with open(\"file2.txt\", \"r\") as readfile:\n",
    "    with open(\"file3.txt\", \"w\") as writefile:\n",
    "        for line in readfile:\n",
    "            writefile.write(line)"
   ]
  },
  {
   "cell_type": "code",
   "execution_count": 4,
   "id": "c76d388f",
   "metadata": {},
   "outputs": [
    {
     "name": "stdout",
     "output_type": "stream",
     "text": [
      "Failed to download file. Status code: 403\n"
     ]
    }
   ],
   "source": [
    "import ssl\n",
    "import certifi\n",
    "from aiohttp import ClientSession, TCPConnector\n",
    "\n",
    "url = \"https://house-plants2.p.rapidapi.com/all-lite\"\n",
    "headers = {\n",
    "    \"x-rapidapi-key\": \"secret_key\",\n",
    "}\n",
    "\n",
    "\n",
    "async def download(url, filename):\n",
    "    try:\n",
    "        async with ClientSession(\n",
    "            headers=headers,\n",
    "            connector=TCPConnector(\n",
    "                # to ease ssl verification set ssl=False\n",
    "                ssl=ssl.create_default_context(cafile=certifi.where())\n",
    "            ),\n",
    "        ) as session:\n",
    "            async with session.get(url) as res:\n",
    "                if res.status == 200:\n",
    "                    with open(filename, \"wb\") as file:\n",
    "                        async for chunk in res.content.iter_chunked(n=1024):\n",
    "                            file.write(chunk)\n",
    "                    print(f\"File {filename} downloaded successfully.\")\n",
    "                else:\n",
    "                    print(f\"Failed to download file. Status code: {res.status}\")\n",
    "    except Exception as e:\n",
    "        print(f\"Error accessing URL: {e}\")\n",
    "\n",
    "\n",
    "await download(url, \"data.json\")"
   ]
  }
 ],
 "metadata": {
  "kernelspec": {
   "display_name": "Python 3",
   "language": "python",
   "name": "python3"
  },
  "language_info": {
   "codemirror_mode": {
    "name": "ipython",
    "version": 3
   },
   "file_extension": ".py",
   "mimetype": "text/x-python",
   "name": "python",
   "nbconvert_exporter": "python",
   "pygments_lexer": "ipython3",
   "version": "3.13.7"
  }
 },
 "nbformat": 4,
 "nbformat_minor": 5
}
