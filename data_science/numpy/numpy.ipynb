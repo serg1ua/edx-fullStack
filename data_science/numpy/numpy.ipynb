{
 "cells": [
  {
   "cell_type": "code",
   "execution_count": null,
   "id": "3b53bbba",
   "metadata": {},
   "outputs": [],
   "source": [
    "%pip install numpy matplotlib\n",
    "# import numpy library\n",
    "import numpy as np"
   ]
  },
  {
   "cell_type": "code",
   "execution_count": 7,
   "id": "3b31f8ad",
   "metadata": {},
   "outputs": [
    {
     "data": {
      "text/plain": [
       "array([0, 1, 2, 3, 4])"
      ]
     },
     "execution_count": 7,
     "metadata": {},
     "output_type": "execute_result"
    }
   ],
   "source": [
    "# Create a numpy array\n",
    "arr = np.array([0, 1, 2, 3, 4])\n",
    "arr"
   ]
  },
  {
   "cell_type": "code",
   "execution_count": 8,
   "id": "6514932f",
   "metadata": {},
   "outputs": [
    {
     "name": "stdout",
     "output_type": "stream",
     "text": [
      "0\n",
      "1\n",
      "2\n",
      "3\n",
      "4\n"
     ]
    }
   ],
   "source": [
    "print(arr[0])\n",
    "print(arr[1])\n",
    "print(arr[2])\n",
    "print(arr[3])\n",
    "print(arr[4])"
   ]
  },
  {
   "cell_type": "code",
   "execution_count": 9,
   "id": "a1c8c504",
   "metadata": {},
   "outputs": [
    {
     "name": "stdout",
     "output_type": "stream",
     "text": [
      "2.3.3\n"
     ]
    }
   ],
   "source": [
    "print(np.__version__)"
   ]
  },
  {
   "cell_type": "code",
   "execution_count": 10,
   "id": "ded0df71",
   "metadata": {},
   "outputs": [
    {
     "data": {
      "text/plain": [
       "numpy.ndarray"
      ]
     },
     "execution_count": 10,
     "metadata": {},
     "output_type": "execute_result"
    }
   ],
   "source": [
    "type(arr)"
   ]
  },
  {
   "cell_type": "code",
   "execution_count": 11,
   "id": "ffc781c3",
   "metadata": {},
   "outputs": [
    {
     "data": {
      "text/plain": [
       "dtype('int64')"
      ]
     },
     "execution_count": 11,
     "metadata": {},
     "output_type": "execute_result"
    }
   ],
   "source": [
    "arr.dtype"
   ]
  },
  {
   "cell_type": "code",
   "execution_count": 12,
   "id": "6a9009c4",
   "metadata": {},
   "outputs": [
    {
     "data": {
      "text/plain": [
       "array([  0,   1,   2,   3, 100])"
      ]
     },
     "execution_count": 12,
     "metadata": {},
     "output_type": "execute_result"
    }
   ],
   "source": [
    "arr[4] = 100\n",
    "arr"
   ]
  },
  {
   "cell_type": "code",
   "execution_count": 13,
   "id": "831861bd",
   "metadata": {},
   "outputs": [
    {
     "data": {
      "text/plain": [
       "array([1, 2])"
      ]
     },
     "execution_count": 13,
     "metadata": {},
     "output_type": "execute_result"
    }
   ],
   "source": [
    "arr2 = arr[1:3]\n",
    "arr2"
   ]
  },
  {
   "cell_type": "code",
   "execution_count": 14,
   "id": "82ba1439",
   "metadata": {},
   "outputs": [
    {
     "data": {
      "text/plain": [
       "array([  0,   1,   2, 300, 400])"
      ]
     },
     "execution_count": 14,
     "metadata": {},
     "output_type": "execute_result"
    }
   ],
   "source": [
    "arr[3:5] = 300, 400\n",
    "arr"
   ]
  },
  {
   "cell_type": "code",
   "execution_count": 15,
   "id": "3f8a6c9c",
   "metadata": {},
   "outputs": [
    {
     "data": {
      "text/plain": [
       "[0, 2, 3, 4]"
      ]
     },
     "execution_count": 15,
     "metadata": {},
     "output_type": "execute_result"
    }
   ],
   "source": [
    "select = [0, 2, 3, 4]\n",
    "select"
   ]
  },
  {
   "cell_type": "code",
   "execution_count": 16,
   "id": "16acab37",
   "metadata": {},
   "outputs": [
    {
     "data": {
      "text/plain": [
       "array([  0,   2, 300, 400])"
      ]
     },
     "execution_count": 16,
     "metadata": {},
     "output_type": "execute_result"
    }
   ],
   "source": [
    "# select by indexes\n",
    "selected = arr[select]\n",
    "selected"
   ]
  },
  {
   "cell_type": "code",
   "execution_count": 17,
   "id": "c7cdd15c",
   "metadata": {},
   "outputs": [
    {
     "data": {
      "text/plain": [
       "array([1000,    1, 1000, 1000, 1000])"
      ]
     },
     "execution_count": 17,
     "metadata": {},
     "output_type": "execute_result"
    }
   ],
   "source": [
    "# assign value to selected indexes\n",
    "arr[select] = 1000\n",
    "arr"
   ]
  },
  {
   "cell_type": "code",
   "execution_count": 18,
   "id": "d9752824",
   "metadata": {},
   "outputs": [
    {
     "data": {
      "text/plain": [
       "array([0, 1, 2, 3, 4])"
      ]
     },
     "execution_count": 18,
     "metadata": {},
     "output_type": "execute_result"
    }
   ],
   "source": [
    "arr3 = np.array([0, 1, 2, 3, 4])\n",
    "arr3"
   ]
  },
  {
   "cell_type": "code",
   "execution_count": 19,
   "id": "c5994b20",
   "metadata": {},
   "outputs": [
    {
     "data": {
      "text/plain": [
       "5"
      ]
     },
     "execution_count": 19,
     "metadata": {},
     "output_type": "execute_result"
    }
   ],
   "source": [
    "# array size (length)\n",
    "arr3.size"
   ]
  },
  {
   "cell_type": "code",
   "execution_count": 20,
   "id": "50eadd41",
   "metadata": {},
   "outputs": [
    {
     "data": {
      "text/plain": [
       "1"
      ]
     },
     "execution_count": 20,
     "metadata": {},
     "output_type": "execute_result"
    }
   ],
   "source": [
    "# number of array dimensions\n",
    "arr3.ndim"
   ]
  },
  {
   "cell_type": "code",
   "execution_count": 21,
   "id": "7a4003fc",
   "metadata": {},
   "outputs": [
    {
     "data": {
      "text/plain": [
       "(5,)"
      ]
     },
     "execution_count": 21,
     "metadata": {},
     "output_type": "execute_result"
    }
   ],
   "source": [
    "# size in dimensions (5 elements in 1 dimension)\n",
    "arr3.shape"
   ]
  },
  {
   "cell_type": "code",
   "execution_count": 22,
   "id": "831f4ac1",
   "metadata": {},
   "outputs": [
    {
     "data": {
      "text/plain": [
       "np.float64(2.0)"
      ]
     },
     "execution_count": 22,
     "metadata": {},
     "output_type": "execute_result"
    }
   ],
   "source": [
    "# avarage value in array\n",
    "mean = arr3.mean()\n",
    "mean"
   ]
  },
  {
   "cell_type": "code",
   "execution_count": 23,
   "id": "212b981d",
   "metadata": {},
   "outputs": [
    {
     "data": {
      "text/plain": [
       "np.int64(4)"
      ]
     },
     "execution_count": 23,
     "metadata": {},
     "output_type": "execute_result"
    }
   ],
   "source": [
    "max_arr3 = arr3.max()\n",
    "max_arr3"
   ]
  },
  {
   "cell_type": "code",
   "execution_count": 24,
   "id": "8a11c9b1",
   "metadata": {},
   "outputs": [
    {
     "data": {
      "text/plain": [
       "np.int64(0)"
      ]
     },
     "execution_count": 24,
     "metadata": {},
     "output_type": "execute_result"
    }
   ],
   "source": [
    "min_arr3 = arr3.min()\n",
    "min_arr3"
   ]
  },
  {
   "cell_type": "code",
   "execution_count": 25,
   "id": "6c1ae752",
   "metadata": {},
   "outputs": [
    {
     "data": {
      "text/plain": [
       "array([1, 1])"
      ]
     },
     "execution_count": 25,
     "metadata": {},
     "output_type": "execute_result"
    }
   ],
   "source": [
    "# vector u\n",
    "u = np.array([1, 0])\n",
    "# vector v\n",
    "v = np.array([0, 1])\n",
    "\n",
    "# adding vectors\n",
    "z = np.add(u, v)\n",
    "\n",
    "z"
   ]
  },
  {
   "cell_type": "code",
   "execution_count": 33,
   "id": "1a48c949",
   "metadata": {},
   "outputs": [
    {
     "data": {
      "image/png": "[encoded data removed]",
      "text/plain": [
       "<Figure size 640x480 with 1 Axes>"
      ]
     },
     "metadata": {},
     "output_type": "display_data"
    }
   ],
   "source": [
    "# Plotting functions\n",
    "\n",
    "import matplotlib.pyplot as plt\n",
    "\n",
    "\n",
    "def plot_vector1(u, z, v):\n",
    "    # to generate the full window axes\n",
    "    axes = plt.axes()\n",
    "\n",
    "    # Add an arrow to the U Axes with arrow head width 0.05, color red and arrow head length 0.1\n",
    "    axes.arrow(0, 0, *u, head_width=0.05, color=\"r\", head_length=0.1)\n",
    "    # Adds the text u to the Axes\n",
    "    plt.text(*(u + 0.1), \"u\")\n",
    "\n",
    "    # Add an arrow to the  v Axes with arrow head width 0.05, color red and arrow head length 0.1\n",
    "    axes.arrow(0, 0, *v, head_width=0.05, color=\"b\", head_length=0.1)\n",
    "    # Adds the text v to the Axes\n",
    "    plt.text(*(v + 0.1), \"v\")\n",
    "\n",
    "    axes.arrow(0, 0, *z, head_width=0.05, head_length=0.1)\n",
    "    plt.text(*(z + 0.1), \"z\")  # Adds the text z to the Axes\n",
    "\n",
    "    plt.xlim(-2, 2)  # set the xlim to left(-2), right(2)\n",
    "    plt.ylim(-2, 2)  # set the ylim to bottom(-2), top(2)\n",
    "\n",
    "\n",
    "plot_vector1(u, v, z)"
   ]
  },
  {
   "cell_type": "code",
   "execution_count": 39,
   "id": "b511cb41",
   "metadata": {},
   "outputs": [
    {
     "data": {
      "text/plain": [
       "array([ 5, 10, 15])"
      ]
     },
     "execution_count": 39,
     "metadata": {},
     "output_type": "execute_result"
    }
   ],
   "source": [
    "# array substraction\n",
    "a = np.array([10, 20, 30])\n",
    "b = np.array([5, 10, 15])\n",
    "\n",
    "c = np.subtract(a, b)\n",
    "c"
   ]
  },
  {
   "cell_type": "code",
   "execution_count": 40,
   "id": "10aedfea",
   "metadata": {},
   "outputs": [
    {
     "data": {
      "text/plain": [
       "array([ 50, 200, 450])"
      ]
     },
     "execution_count": 40,
     "metadata": {},
     "output_type": "execute_result"
    }
   ],
   "source": [
    "# array multiolication\n",
    "d = np.multiply(a, b)\n",
    "d"
   ]
  },
  {
   "cell_type": "code",
   "execution_count": 41,
   "id": "242c46dd",
   "metadata": {},
   "outputs": [
    {
     "data": {
      "text/plain": [
       "array([2., 2., 2.])"
      ]
     },
     "execution_count": 41,
     "metadata": {},
     "output_type": "execute_result"
    }
   ],
   "source": [
    "# array division\n",
    "e = np.divide(a, b)\n",
    "e"
   ]
  },
  {
   "cell_type": "code",
   "execution_count": null,
   "id": "15f2f57c",
   "metadata": {},
   "outputs": [
    {
     "name": "stdout",
     "output_type": "stream",
     "text": [
      "[1 2]\n",
      "[3 2]\n",
      "7\n"
     ]
    }
   ],
   "source": [
    "# dot product\n",
    "X = np.array([1, 2])\n",
    "Y = np.array([3, 2])\n",
    "\n",
    "dot = np.dot(X, Y)\n",
    "\n",
    "print(X)\n",
    "print(Y)\n",
    "print(dot)  # X[0] * Y[0] + X[1] * Y[0] = 1 * 3 + 2 * 2 = 3 + 4 = 7"
   ]
  },
  {
   "cell_type": "code",
   "execution_count": 45,
   "id": "ee174170",
   "metadata": {},
   "outputs": [
    {
     "name": "stdout",
     "output_type": "stream",
     "text": [
      "[ 1  2  3 -1]\n",
      "[2 3 4 0]\n"
     ]
    }
   ],
   "source": [
    "# adding const to an array\n",
    "u = np.array([1, 2, 3, -1])\n",
    "print(u)\n",
    "\n",
    "u = u + 1  # adds 1 to each element of an array\n",
    "\n",
    "print(u)"
   ]
  },
  {
   "cell_type": "code",
   "execution_count": 46,
   "id": "525e4f7e",
   "metadata": {},
   "outputs": [
    {
     "data": {
      "text/plain": [
       "3.141592653589793"
      ]
     },
     "execution_count": 46,
     "metadata": {},
     "output_type": "execute_result"
    }
   ],
   "source": [
    "pi = np.pi\n",
    "pi"
   ]
  },
  {
   "cell_type": "code",
   "execution_count": 48,
   "id": "5b3ccad6",
   "metadata": {},
   "outputs": [
    {
     "data": {
      "text/plain": [
       "array([0.0000000e+00, 1.0000000e+00, 1.2246468e-16])"
      ]
     },
     "execution_count": 48,
     "metadata": {},
     "output_type": "execute_result"
    }
   ],
   "source": [
    "x = np.array([0, np.pi / 2, np.pi])\n",
    "sin = np.sin(x)\n",
    "sin"
   ]
  },
  {
   "cell_type": "code",
   "execution_count": 51,
   "id": "105944d0",
   "metadata": {},
   "outputs": [
    {
     "data": {
      "text/plain": [
       "array([-2., -1.,  0.,  1.,  2.])"
      ]
     },
     "execution_count": 51,
     "metadata": {},
     "output_type": "execute_result"
    }
   ],
   "source": [
    "# Makeup a numpy array within [-2, 2] and 5 elements\n",
    "np.linspace(-2, 2, num=5)"
   ]
  },
  {
   "cell_type": "code",
   "execution_count": 60,
   "id": "444d7b67",
   "metadata": {},
   "outputs": [
    {
     "data": {
      "text/plain": [
       "array([0.        , 0.12822827, 0.25645654, 0.38468481, 0.51291309,\n",
       "       0.64114136, 0.76936963, 0.8975979 , 1.02582617, 1.15405444,\n",
       "       1.28228272, 1.41051099, 1.53873926, 1.66696753, 1.7951958 ,\n",
       "       1.92342407, 2.05165235, 2.17988062, 2.30810889, 2.43633716,\n",
       "       2.56456543, 2.6927937 , 2.82102197, 2.94925025, 3.07747852,\n",
       "       3.20570679, 3.33393506, 3.46216333, 3.5903916 , 3.71861988,\n",
       "       3.84684815, 3.97507642, 4.10330469, 4.23153296, 4.35976123,\n",
       "       4.48798951, 4.61621778, 4.74444605, 4.87267432, 5.00090259,\n",
       "       5.12913086, 5.25735913, 5.38558741, 5.51381568, 5.64204395,\n",
       "       5.77027222, 5.89850049, 6.02672876, 6.15495704, 6.28318531])"
      ]
     },
     "execution_count": 60,
     "metadata": {},
     "output_type": "execute_result"
    }
   ],
   "source": [
    "# Make a numpy array within [0, 2π] and 100 elements\n",
    "x = np.linspace(0, 2 * np.pi, num=50)\n",
    "x"
   ]
  },
  {
   "cell_type": "code",
   "execution_count": 61,
   "id": "61e84ec1",
   "metadata": {},
   "outputs": [
    {
     "data": {
      "text/plain": [
       "array([ 0.00000000e+00,  1.27877162e-01,  2.53654584e-01,  3.75267005e-01,\n",
       "        4.90717552e-01,  5.98110530e-01,  6.95682551e-01,  7.81831482e-01,\n",
       "        8.55142763e-01,  9.14412623e-01,  9.58667853e-01,  9.87181783e-01,\n",
       "        9.99486216e-01,  9.95379113e-01,  9.74927912e-01,  9.38468422e-01,\n",
       "        8.86599306e-01,  8.20172255e-01,  7.40277997e-01,  6.48228395e-01,\n",
       "        5.45534901e-01,  4.33883739e-01,  3.15108218e-01,  1.91158629e-01,\n",
       "        6.40702200e-02, -6.40702200e-02, -1.91158629e-01, -3.15108218e-01,\n",
       "       -4.33883739e-01, -5.45534901e-01, -6.48228395e-01, -7.40277997e-01,\n",
       "       -8.20172255e-01, -8.86599306e-01, -9.38468422e-01, -9.74927912e-01,\n",
       "       -9.95379113e-01, -9.99486216e-01, -9.87181783e-01, -9.58667853e-01,\n",
       "       -9.14412623e-01, -8.55142763e-01, -7.81831482e-01, -6.95682551e-01,\n",
       "       -5.98110530e-01, -4.90717552e-01, -3.75267005e-01, -2.53654584e-01,\n",
       "       -1.27877162e-01, -2.44929360e-16])"
      ]
     },
     "execution_count": 61,
     "metadata": {},
     "output_type": "execute_result"
    }
   ],
   "source": [
    "# Calculate the sine of x list\n",
    "y = np.sin(x)\n",
    "y"
   ]
  },
  {
   "cell_type": "code",
   "execution_count": 62,
   "id": "721d5cd2",
   "metadata": {},
   "outputs": [
    {
     "data": {
      "text/plain": [
       "[<matplotlib.lines.Line2D at 0x11332f4d0>]"
      ]
     },
     "execution_count": 62,
     "metadata": {},
     "output_type": "execute_result"
    },
    {
     "data": {
      "image/png": "[encoded data removed]",
      "text/plain": [
       "<Figure size 640x480 with 1 Axes>"
      ]
     },
     "metadata": {},
     "output_type": "display_data"
    }
   ],
   "source": [
    "# plot the result\n",
    "plt.plot(x, y)"
   ]
  }
 ],
 "metadata": {
  "kernelspec": {
   "display_name": "Python 3",
   "language": "python",
   "name": "python3"
  },
  "language_info": {
   "codemirror_mode": {
    "name": "ipython",
    "version": 3
   },
   "file_extension": ".py",
   "mimetype": "text/x-python",
   "name": "python",
   "nbconvert_exporter": "python",
   "pygments_lexer": "ipython3",
   "version": "3.13.7"
  }
 },
 "nbformat": 4,
 "nbformat_minor": 5
}
